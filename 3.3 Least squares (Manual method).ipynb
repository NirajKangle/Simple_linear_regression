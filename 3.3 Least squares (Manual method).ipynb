{
 "cells": [
  {
   "cell_type": "markdown",
   "metadata": {
    "id": "NvmupcJFiXSH"
   },
   "source": [
    "# Least squares\n",
    "\n",
    "Given a family of regression models, the least squares solution is the model that minimises the mean squared error on our training dataset. Consider the folowing **multiple linear model**:\n",
    "\n",
    "$\\begin{equation}\n",
    "f(x) = w_0 + w_1 x_1 + ... + w_K x_K\n",
    "\\end{equation}$\n",
    "\n",
    "where $x_1, ..., x_K$ are the predictors and $w_0, ..., w_K$ are the model's parameters. If we have a dataset consisting of $N$ samples, we can obtain the parameters of the least squares solution using the **normal equations** \n",
    "\n",
    "$\\begin{equation}\n",
    "\\mathbf{w} = (\\mathbf{X}^T\\mathbf{X})^{-1}\\mathbf{X}^T\\mathbf{y}\n",
    "\\end{equation}$\n",
    "\n",
    "where $\\mathbf{w}=[w_1, ... , w_K]^T$ are the parameters of the model, $\\mathbf{y}=[y_0, ..., y_N]^T$ are the true labels in the dataset and $\\mathbf{X}$ is the design matrix. The least squares solution for **simple polynomial regression** can be obtained following an identical approach. Given a polynomial model\n",
    "\n",
    "$\\begin{equation}\n",
    "f(x) = w_0 + w_1 x + ... + w_K x^K\n",
    "\\end{equation}$\n",
    "\n",
    "we can treat $x, x^2, ..., x^K$ as separate predictors, build the corresponding design matrix $\\mathbf{X}$ and use the normal equation.\n",
    "\n",
    "As you can see from the normal equations, obtaining the least square solution involves: \n",
    "\n",
    "- **Arrays** ($\\mathbf{w}$, $\\mathbf{y}$ and $\\mathbf{X}$).\n",
    "- **Transposition**.\n",
    "- **Matrix inversion**.\n",
    "- **Matrix multiplication**. \n",
    "\n",
    "Let's explore a simple regression problem. First, we will define and plot our training dataset, which consists 10 samples described by one predictor `x` and one label `y`."
   ]
  },
  {
   "cell_type": "code",
   "execution_count": 1,
   "metadata": {
    "id": "45EJiGfDiWRV"
   },
   "outputs": [
    {
     "data": {
      "image/png": "[encoded data removed]",
      "text/plain": [
       "<Figure size 432x288 with 1 Axes>"
      ]
     },
     "metadata": {
      "needs_background": "light"
     },
     "output_type": "display_data"
    }
   ],
   "source": [
    "import numpy as np\n",
    "import matplotlib.pyplot as plt\n",
    "\n",
    "x = np.array([0.3000, -0.7700, 0.9000, -0.0400, 0.7400, -0.5800, -0.9200, -0.2100, -0.5400, 0.6800], ndmin=2).T\n",
    "y = np.array([1.1492,  0.3582, 1.9013,  0.9487, 1.3096,  0.9646,  0.1079,  1.1262,  0.6131, 1.0951], ndmin=2).T\n",
    "\n",
    "plt.plot(x, y, 'o', label=\"Training Data\")\n",
    "plt.xlabel(\"x (attribute)\", fontsize=18)\n",
    "plt.ylabel(\"y (label)\", fontsize=18)\n",
    "plt.xlim(-1,1)\n",
    "plt.ylim(-0.5,2.5)\n",
    "plt.grid(alpha=0.2)\n",
    "plt.legend(fontsize=12)\n",
    "plt.show()"
   ]
  },
  {
   "cell_type": "markdown",
   "metadata": {
    "id": "k9jYiqJeavhD"
   },
   "source": [
    "Note that here we have obtained the transpose of two row vectors using `.T` instead of `np.transpose`. Both options are equivalent. The most important point is that `x` and `y` are two column vectors consisting of 10 rows and 1 column, i.e. 10x1 vectors:"
   ]
  },
  {
   "cell_type": "code",
   "execution_count": 2,
   "metadata": {
    "colab": {
     "base_uri": "https://localhost:8080/"
    },
    "id": "8lmVZD3YbDcN",
    "outputId": "5e81c81d-69e5-4ee9-c2dc-e83268ce56dd"
   },
   "outputs": [
    {
     "name": "stdout",
     "output_type": "stream",
     "text": [
      "(10, 1)\n",
      "(10, 1)\n"
     ]
    }
   ],
   "source": [
    "print(x.shape)\n",
    "print(y.shape)"
   ]
  },
  {
   "cell_type": "markdown",
   "metadata": {
    "id": "MgVr8pN-dAq0"
   },
   "source": [
    "Let's obtain the least squares solution for a simple linear model $f(x) = w_0 + w_1 x$. We need to calculate the design matrix first and then use the normal equation. We will show the calculations involved in the normal equations step by step:\n",
    "\n",
    "Step 1:  $X^TX$\n",
    "\n",
    "Step 2: $(X^TX)^{-1}$\n",
    "\n",
    "Step 3: $(X^TX)^{-1}X^T$"
   ]
  },
  {
   "cell_type": "code",
   "execution_count": 3,
   "metadata": {
    "id": "knhPStnWciuM"
   },
   "outputs": [
    {
     "name": "stdout",
     "output_type": "stream",
     "text": [
      "The design matrix is:\n",
      " [[ 1.    0.3 ]\n",
      " [ 1.   -0.77]\n",
      " [ 1.    0.9 ]\n",
      " [ 1.   -0.04]\n",
      " [ 1.    0.74]\n",
      " [ 1.   -0.58]\n",
      " [ 1.   -0.92]\n",
      " [ 1.   -0.21]\n",
      " [ 1.   -0.54]\n",
      " [ 1.    0.68]]\n",
      "The 2 parameters of the least squares linear solution are\n",
      " [[0.98652316]\n",
      " [0.66211737]]\n"
     ]
    }
   ],
   "source": [
    "X = np.column_stack([np.ones(x.shape), x])    #column_stack() function is used to stack 1-D arrays as columns into a 2-D array.\n",
    "#It takes a sequence of 1-D arrays and stack them as columns to make a single 2-D array. 2-D arrays are stacked as-is, just like with hstack function.\n",
    "\n",
    "print(\"The design matrix is:\\n\", X)\n",
    "\n",
    "XTX = np.dot(X.T, X) # Step 1\n",
    "XTX_inv = np.linalg.inv(XTX) # Step 2\n",
    "XTX_invXT = np.dot(XTX_inv, X.T) # Step 3\n",
    "\n",
    "w = np.dot(XTX_invXT, y)\n",
    "print(\"The 2 parameters of the least squares linear solution are\\n\", w)"
   ]
  },
  {
   "cell_type": "markdown",
   "metadata": {
    "id": "gBXhwYgdDNfv"
   },
   "source": [
    "Now that we have the parameters $w_0$ and $w_1$ of the linear model, we can use them to predict the labels of 100 predictors uniformly spaced between -1 and 1:"
   ]
  },
  {
   "cell_type": "code",
   "execution_count": 4,
   "metadata": {},
   "outputs": [
    {
     "data": {
      "text/plain": [
       "(2, 1)"
      ]
     },
     "execution_count": 4,
     "metadata": {},
     "output_type": "execute_result"
    }
   ],
   "source": [
    "w.shape"
   ]
  },
  {
   "cell_type": "code",
   "execution_count": 5,
   "metadata": {
    "id": "jHJlUMA0DXQC"
   },
   "outputs": [
    {
     "data": {
      "image/png": "[encoded data removed]",
      "text/plain": [
       "<Figure size 432x288 with 1 Axes>"
      ]
     },
     "metadata": {
      "needs_background": "light"
     },
     "output_type": "display_data"
    }
   ],
   "source": [
    "x_LS = np.linspace(-1,1,100).T\n",
    "X_LS = np.column_stack([np.ones(x_LS.shape), x_LS])\n",
    "y_LS = np.dot(X_LS, w)\n",
    "\n",
    "\n",
    "plt.plot(x, y, 'o', label=\"Dataset\")\n",
    "plt.plot(x_LS, y_LS, label=\"Linear prediction\")\n",
    "plt.xlabel(\"x (attribute)\", fontsize=18)\n",
    "plt.ylabel(\"y (label)\", fontsize=18)\n",
    "plt.xlim(-1,1)\n",
    "plt.ylim(-0.5,2.5)\n",
    "plt.grid(alpha=0.2)\n",
    "plt.legend(fontsize=12)\n",
    "plt.show()"
   ]
  },
  {
   "cell_type": "code",
   "execution_count": 6,
   "metadata": {},
   "outputs": [
    {
     "name": "stdout",
     "output_type": "stream",
     "text": [
      "(100, 2)\n",
      "(100, 1)\n",
      "(100,)\n"
     ]
    }
   ],
   "source": [
    "print(X_LS.shape)\n",
    "print(y_LS.shape)\n",
    "print(x_LS.shape)"
   ]
  },
  {
   "cell_type": "markdown",
   "metadata": {
    "id": "0Uls_RA7F1iF"
   },
   "source": [
    "Let's do the same for a quadratic model. Note that our design matrix will include a new column with the squares of the predictors and instead of 2, we will have 3 parameters ($w_0$, $w_1$ and $w_2$):"
   ]
  },
  {
   "cell_type": "code",
   "execution_count": 7,
   "metadata": {
    "id": "dasliChiGNXS"
   },
   "outputs": [
    {
     "name": "stdout",
     "output_type": "stream",
     "text": [
      "The design matrix is:\n",
      " [[ 1.      0.3     0.09  ]\n",
      " [ 1.     -0.77    0.5929]\n",
      " [ 1.      0.9     0.81  ]\n",
      " [ 1.     -0.04    0.0016]\n",
      " [ 1.      0.74    0.5476]\n",
      " [ 1.     -0.58    0.3364]\n",
      " [ 1.     -0.92    0.8464]\n",
      " [ 1.     -0.21    0.0441]\n",
      " [ 1.     -0.54    0.2916]\n",
      " [ 1.      0.68    0.4624]]\n",
      "The 3 parameters of the least squares quadratic solution are\n",
      " [[ 1.06606387]\n",
      " [ 0.66485629]\n",
      " [-0.19741535]]\n"
     ]
    },
    {
     "data": {
      "image/png": "[encoded data removed]",
      "text/plain": [
       "<Figure size 432x288 with 1 Axes>"
      ]
     },
     "metadata": {
      "needs_background": "light"
     },
     "output_type": "display_data"
    }
   ],
   "source": [
    "X = np.column_stack([np.ones(x.shape), x, x**2]) # Note we are including powers up to 2, the square of the predictors\n",
    "print(\"The design matrix is:\\n\", X)\n",
    "\n",
    "XTX = np.dot(X.T, X)\n",
    "XTX_inv = np.linalg.inv(XTX)\n",
    "XTX_invXT = np.dot(XTX_inv, X.T)\n",
    "\n",
    "w = np.dot(XTX_invXT, y)\n",
    "print(\"The 3 parameters of the least squares quadratic solution are\\n\", w)\n",
    "\n",
    "X_LS = np.column_stack([np.ones(x_LS.shape), x_LS, x_LS**2])\n",
    "y_LS = np.dot(X_LS, w)\n",
    "\n",
    "\n",
    "plt.plot(x, y, 'o', label=\"Dataset\")\n",
    "plt.plot(x_LS, y_LS, label=\"Quadratic prediction\")\n",
    "plt.xlabel(\"x (attribute)\", fontsize=18)\n",
    "plt.ylabel(\"y (label)\", fontsize=18)\n",
    "plt.xlim(-1,1)\n",
    "plt.ylim(-0.5,2.5)\n",
    "plt.grid(alpha=0.2)\n",
    "plt.legend(fontsize=12)\n",
    "plt.show()"
   ]
  },
  {
   "cell_type": "markdown",
   "metadata": {
    "id": "IQQ3O7d7GiSM"
   },
   "source": [
    "The least squares solution for a cubic model consists of four parameters and will be obtained in an identical fashion:"
   ]
  },
  {
   "cell_type": "code",
   "execution_count": 8,
   "metadata": {
    "id": "Wp1ZAGXsGh7Q"
   },
   "outputs": [
    {
     "name": "stdout",
     "output_type": "stream",
     "text": [
      "The design matrix is:\n",
      " [[ 1.00000e+00  3.00000e-01  9.00000e-02  2.70000e-02]\n",
      " [ 1.00000e+00 -7.70000e-01  5.92900e-01 -4.56533e-01]\n",
      " [ 1.00000e+00  9.00000e-01  8.10000e-01  7.29000e-01]\n",
      " [ 1.00000e+00 -4.00000e-02  1.60000e-03 -6.40000e-05]\n",
      " [ 1.00000e+00  7.40000e-01  5.47600e-01  4.05224e-01]\n",
      " [ 1.00000e+00 -5.80000e-01  3.36400e-01 -1.95112e-01]\n",
      " [ 1.00000e+00 -9.20000e-01  8.46400e-01 -7.78688e-01]\n",
      " [ 1.00000e+00 -2.10000e-01  4.41000e-02 -9.26100e-03]\n",
      " [ 1.00000e+00 -5.40000e-01  2.91600e-01 -1.57464e-01]\n",
      " [ 1.00000e+00  6.80000e-01  4.62400e-01  3.14432e-01]]\n",
      "The 4 parameters of the least squares cubic solution are\n",
      " [[ 1.00363129]\n",
      " [-0.14490812]\n",
      " [-0.09075723]\n",
      " [ 1.32593586]]\n"
     ]
    },
    {
     "data": {
      "image/png": "[encoded data removed]",
      "text/plain": [
       "<Figure size 432x288 with 1 Axes>"
      ]
     },
     "metadata": {
      "needs_background": "light"
     },
     "output_type": "display_data"
    }
   ],
   "source": [
    "X = np.column_stack([np.ones(x.shape), x, x**2, x**3]) # Note we are including powers up to 3, the cube of the predictors\n",
    "print(\"The design matrix is:\\n\", X)\n",
    "\n",
    "XTX = np.dot(X.T, X)\n",
    "XTX_inv = np.linalg.inv(XTX)\n",
    "XTX_invXT = np.dot(XTX_inv, X.T)\n",
    "\n",
    "w = np.dot(XTX_invXT, y)\n",
    "print(\"The 4 parameters of the least squares cubic solution are\\n\", w)\n",
    "\n",
    "X_LS = np.column_stack([np.ones(x_LS.shape), x_LS, x_LS**2, x_LS**3])\n",
    "y_LS = np.dot(X_LS, w)\n",
    "\n",
    "\n",
    "plt.plot(x, y, 'o', label=\"Dataset\")\n",
    "plt.plot(x_LS, y_LS, label=\"Cubic prediction\")\n",
    "plt.xlabel(\"x (attribute)\", fontsize=18)\n",
    "plt.ylabel(\"y (label)\", fontsize=18)\n",
    "plt.xlim(-1,1)\n",
    "plt.ylim(-0.5,2.5)\n",
    "plt.grid(alpha=0.2)\n",
    "plt.legend(fontsize=12)\n",
    "plt.show()"
   ]
  },
  {
   "cell_type": "markdown",
   "metadata": {
    "id": "AMuyfSvpHB2T"
   },
   "source": [
    "Finally, let's obtain the least squares solution of a polynomial of degree 4. However, lets put steps 1 to 3 into a single line of code:"
   ]
  },
  {
   "cell_type": "code",
   "execution_count": 9,
   "metadata": {
    "id": "fYwZumZTHFZc"
   },
   "outputs": [
    {
     "name": "stdout",
     "output_type": "stream",
     "text": [
      "The design matrix is:\n",
      " [[ 1.0000000e+00  3.0000000e-01  9.0000000e-02  2.7000000e-02\n",
      "   8.1000000e-03]\n",
      " [ 1.0000000e+00 -7.7000000e-01  5.9290000e-01 -4.5653300e-01\n",
      "   3.5153041e-01]\n",
      " [ 1.0000000e+00  9.0000000e-01  8.1000000e-01  7.2900000e-01\n",
      "   6.5610000e-01]\n",
      " [ 1.0000000e+00 -4.0000000e-02  1.6000000e-03 -6.4000000e-05\n",
      "   2.5600000e-06]\n",
      " [ 1.0000000e+00  7.4000000e-01  5.4760000e-01  4.0522400e-01\n",
      "   2.9986576e-01]\n",
      " [ 1.0000000e+00 -5.8000000e-01  3.3640000e-01 -1.9511200e-01\n",
      "   1.1316496e-01]\n",
      " [ 1.0000000e+00 -9.2000000e-01  8.4640000e-01 -7.7868800e-01\n",
      "   7.1639296e-01]\n",
      " [ 1.0000000e+00 -2.1000000e-01  4.4100000e-02 -9.2610000e-03\n",
      "   1.9448100e-03]\n",
      " [ 1.0000000e+00 -5.4000000e-01  2.9160000e-01 -1.5746400e-01\n",
      "   8.5030560e-02]\n",
      " [ 1.0000000e+00  6.8000000e-01  4.6240000e-01  3.1443200e-01\n",
      "   2.1381376e-01]]\n",
      "The 5 parameters of the least squares 4-degree solution are\n",
      " [[ 1.09143992]\n",
      " [-0.20044224]\n",
      " [-0.93195169]\n",
      " [ 1.42527166]\n",
      " [ 1.01951151]]\n"
     ]
    },
    {
     "data": {
      "image/png": "[encoded data removed]",
      "text/plain": [
       "<Figure size 432x288 with 1 Axes>"
      ]
     },
     "metadata": {
      "needs_background": "light"
     },
     "output_type": "display_data"
    }
   ],
   "source": [
    "X = np.column_stack([np.ones(x.shape), x, x**2, x**3, x**4]) # Note we are including powers up to 4!\n",
    "print(\"The design matrix is:\\n\", X)\n",
    "\n",
    "w = np.dot(np.dot(np.linalg.inv(np.dot(X.T, X)), X.T), y)                         # Here they have calculated XTX_invXT in a single step\n",
    "print(\"The 5 parameters of the least squares 4-degree solution are\\n\", w)\n",
    "\n",
    "X_LS = np.column_stack([np.ones(x_LS.shape), x_LS, x_LS**2, x_LS**3, x_LS**4])\n",
    "y_LS = np.dot(X_LS, w)\n",
    "\n",
    "\n",
    "plt.plot(x, y, 'o', label=\"Dataset\")\n",
    "plt.plot(x_LS, y_LS, label=\"Degree 4 prediction\")\n",
    "plt.xlabel(\"x (attribute)\", fontsize=18)\n",
    "plt.ylabel(\"y (label)\", fontsize=18)\n",
    "plt.xlim(-1,1)\n",
    "plt.ylim(-0.5,2.5)\n",
    "plt.grid(alpha=0.2)\n",
    "plt.legend(fontsize=12)\n",
    "plt.show()"
   ]
  },
  {
   "cell_type": "markdown",
   "metadata": {
    "id": "Ne5H1LL3jOcs"
   },
   "source": [
    "# Summary\n",
    "\n",
    "In this notebook, we have covered several **operations** on NumPy arrays, specifically:\n",
    "\n",
    "- **Arithmetic operations**: `+`, `-`, `*`, `/`, `**`. \n",
    "- **Transposition**: Given a matrix `X`, its transpose is `np.transpose(X)` and also `X.T`.\n",
    "- **Column stacking**: Given several vectors with the same shape, for instance `x1`, `x2` and `x3`, they can be stacked together using `np.column_stack([x1, x2, x3])`.\n",
    "- **Matrix multiplication**: Given two matrices `X` and `Y` (with the right dimensions!), we can multiply them by typing `np.dot(X,Y)`.\n",
    "- **Matrix inversion**: The inverse of a matrix `X` can be obtained as `np.linalg.inv(X)`.\n",
    "\n",
    "With these basic operations, and after representing our data as NumPy arrays, we have writen code to:\n",
    "\n",
    "- Obtain the predicted label of a dataset consisting of any number of samples.\n",
    "- Obtain the least square solution for linear and polynomial models.\n",
    "\n"
   ]
  }
 ],
 "metadata": {
  "colab": {
   "collapsed_sections": [
    "sHQZ2xEiaxmH"
   ],
   "name": "ECS7020P_Lab03.ipynb",
   "provenance": []
  },
  "kernelspec": {
   "display_name": "Python 3 (ipykernel)",
   "language": "python",
   "name": "python3"
  },
  "language_info": {
   "codemirror_mode": {
    "name": "ipython",
    "version": 3
   },
   "file_extension": ".py",
   "mimetype": "text/x-python",
   "name": "python",
   "nbconvert_exporter": "python",
   "pygments_lexer": "ipython3",
   "version": "3.9.7"
  }
 },
 "nbformat": 4,
 "nbformat_minor": 4
}
