{
 "cells": [
  {
   "cell_type": "markdown",
   "metadata": {
    "id": "mzK5lzJ1bKAb"
   },
   "source": [
    "# Numerical predictions with a polynomial model: A simple example\n",
    "\n",
    "Consider the following cubic model:\n",
    "\n",
    "$\\begin{equation}\n",
    "f(x) = -2-\\frac{3}{2}x+\\frac{3}{4}x^2+\\frac{1}{4}x^3\n",
    "\\end{equation}$\n",
    "\n",
    "Assume that this model is used to predict the value of a label $y$ given a predictor $x$, i.e. assume $\\hat{y} = f(x)$. Let's use Python to calculate our model's prediction for three values of $x$, say $x=0, 1, 2$. We will start by implementing a **non-vectorised** approach:"
   ]
  },
  {
   "cell_type": "code",
   "execution_count": 1,
   "metadata": {
    "id": "pXtQtv7sdkle"
   },
   "outputs": [
    {
     "name": "stdout",
     "output_type": "stream",
     "text": [
      "The prediction for x=0 is: -2.0\n",
      "The prediction for x=1 is: -2.5\n",
      "The prediction for x=2 is: 0.0\n"
     ]
    }
   ],
   "source": [
    "y_0 = -2 - 0*3/2 + 0**2*3/4 + 0**3*1/4\n",
    "print(\"The prediction for x=0 is:\", y_0)\n",
    "y_1 = -2 - 1*3/2 + 1**2*3/4 + 1**3*1/4\n",
    "print(\"The prediction for x=1 is:\", y_1)\n",
    "y_2 = -2 - 2*3/2 + 2**2*3/4 + 2**3*1/4\n",
    "print(\"The prediction for x=2 is:\", y_2)"
   ]
  },
  {
   "cell_type": "markdown",
   "metadata": {
    "id": "_vxfGbzYe9kZ"
   },
   "source": [
    "We have written down one line of code per prediction. When we have many predictions to make, writing a line of code per prediction is less than ideal. Using loops might seem like a good option that avoids writing many repetitive lines of code:"
   ]
  },
  {
   "cell_type": "code",
   "execution_count": 2,
   "metadata": {
    "id": "-HURoUS8Pnto"
   },
   "outputs": [
    {
     "name": "stdout",
     "output_type": "stream",
     "text": [
      "The prediction for x= 0 is: -2.0\n",
      "The prediction for x= 1 is: -2.5\n",
      "The prediction for x= 2 is: 0.0\n"
     ]
    }
   ],
   "source": [
    "for x in [0, 1, 2]:\n",
    "  y = -2 - x*3/2 + x**2*3/4 + x**3*1/4\n",
    "  print(\"The prediction for x=\", x ,\"is:\", y)"
   ]
  },
  {
   "cell_type": "markdown",
   "metadata": {
    "id": "GDsF0U_APoHe"
   },
   "source": [
    "However this approach is still **computationally inefficient**, as it proceeds by computing one prediction at a time. The most efficient approach is to take advantage of **vectorised operations**, where collections of values are operated on at the same time. \n",
    "\n",
    "The first step is to import NumPy:"
   ]
  },
  {
   "cell_type": "code",
   "execution_count": 3,
   "metadata": {
    "id": "8LM7kjMcgM6E"
   },
   "outputs": [],
   "source": [
    "import numpy as np\n",
    "np.set_printoptions(precision=3) # We do this to print up to 3 decimal places "
   ]
  },
  {
   "cell_type": "markdown",
   "metadata": {
    "id": "ES25sUdViXYR"
   },
   "source": [
    "We can now apply the model $f(x)$ to a NumPy array consisting of the predictor values $x=0, 1, 2$:"
   ]
  },
  {
   "cell_type": "code",
   "execution_count": 5,
   "metadata": {
    "id": "1aBdt-QDhLI1"
   },
   "outputs": [
    {
     "name": "stdout",
     "output_type": "stream",
     "text": [
      "The predictors x are\n",
      " [[0]\n",
      " [1]\n",
      " [2]]\n",
      "The square of x is\n",
      " [[0]\n",
      " [1]\n",
      " [4]]\n",
      "The cube of x is\n",
      " [[0]\n",
      " [1]\n",
      " [8]]\n",
      "The predicted labels are:\n",
      " [[-2. ]\n",
      " [-2.5]\n",
      " [ 0. ]]\n"
     ]
    }
   ],
   "source": [
    "x = np.array([[0],[1],[2]]) # x is a 1x3 column vector: 1 column and 3 rows\n",
    "print(\"The predictors x are\\n\", x)\n",
    "print(\"The square of x is\\n\", x**2)\n",
    "print(\"The cube of x is\\n\", x**3)\n",
    "y = -2 - x*3/2 + x**2*3/4 + x**3*1/4\n",
    "print(\"The predicted labels are:\\n\", y)"
   ]
  },
  {
   "cell_type": "markdown",
   "metadata": {
    "id": "iw2bNcuwjEYd"
   },
   "source": [
    "We have not just reduced the number of lines of code (which is great, by the way). The line of code `y = -2 - x*3/2 + x**2*3/4 + x**3*1/4` operates on a NumPy array of dimensions 1x3, rather than operating 3 times on different values. Importantly, the NumPy array `x` can be of any size. In the following cell we create a vector `x` consisting of 100 values between -4 and 4 and use exactly the same line of code as above to obtain the corresponding predictions: "
   ]
  },
  {
   "cell_type": "code",
   "execution_count": 6,
   "metadata": {
    "id": "Q2eeDC3Bi3Kk"
   },
   "outputs": [
    {
     "name": "stdout",
     "output_type": "stream",
     "text": [
      "The predictors x are: [-4.    -3.919 -3.838 -3.758 -3.677 -3.596 -3.515 -3.434 -3.354 -3.273\n",
      " -3.192 -3.111 -3.03  -2.949 -2.869 -2.788 -2.707 -2.626 -2.545 -2.465\n",
      " -2.384 -2.303 -2.222 -2.141 -2.061 -1.98  -1.899 -1.818 -1.737 -1.657\n",
      " -1.576 -1.495 -1.414 -1.333 -1.253 -1.172 -1.091 -1.01  -0.929 -0.848\n",
      " -0.768 -0.687 -0.606 -0.525 -0.444 -0.364 -0.283 -0.202 -0.121 -0.04\n",
      "  0.04   0.121  0.202  0.283  0.364  0.444  0.525  0.606  0.687  0.768\n",
      "  0.848  0.929  1.01   1.091  1.172  1.253  1.333  1.414  1.495  1.576\n",
      "  1.657  1.737  1.818  1.899  1.98   2.061  2.141  2.222  2.303  2.384\n",
      "  2.465  2.545  2.626  2.707  2.788  2.869  2.949  3.03   3.111  3.192\n",
      "  3.273  3.354  3.434  3.515  3.596  3.677  3.758  3.838  3.919  4.   ]\n",
      "The predicted labels are: [ 0.     0.349  0.67   0.962  1.228  1.467  1.681  1.871  2.036  2.179\n",
      "  2.299  2.398  2.476  2.534  2.573  2.594  2.597  2.584  2.554  2.51\n",
      "  2.451  2.379  2.294  2.196  2.088  1.969  1.841  1.704  1.559  1.407\n",
      "  1.248  1.083  0.914  0.741  0.564  0.385  0.204  0.023 -0.159 -0.34\n",
      " -0.52  -0.697 -0.871 -1.041 -1.207 -1.367 -1.521 -1.668 -1.808 -1.938\n",
      " -2.059 -2.17  -2.27  -2.359 -2.434 -2.497 -2.545 -2.578 -2.595 -2.596\n",
      " -2.58  -2.546 -2.492 -2.419 -2.326 -2.211 -2.074 -1.914 -1.731 -1.523\n",
      " -1.29  -1.031 -0.745 -0.432 -0.09   0.281  0.682  1.114  1.577  2.073\n",
      "  2.602  3.165  3.762  4.395  5.064  5.771  6.515  7.298  8.121  8.983\n",
      "  9.887 10.833 11.821 12.853 13.929 15.05  16.217 17.43  18.691 20.   ]\n"
     ]
    }
   ],
   "source": [
    "x = np.linspace(-4,4, 100)  # linspace returns a vector from -4 to 4 divided into 100 parts\n",
    "print(\"The predictors x are:\", x)\n",
    "y = -2-x*3/2+x**2*3/4+x**3*1/4\n",
    "print(\"The predicted labels are:\", y)"
   ]
  },
  {
   "cell_type": "markdown",
   "metadata": {
    "id": "5Cqy2XaUj7Np"
   },
   "source": [
    "No matter what the size of `x` is, the code that we need to write is exactly the same. Printing all the values is **not a good idea**, though (after all, **who's going to read them**?). It is much more informative to plot the label `y` against the predictor `x`:"
   ]
  },
  {
   "cell_type": "code",
   "execution_count": 7,
   "metadata": {
    "id": "SHe5W9Z4j-rd"
   },
   "outputs": [
    {
     "data": {
      "image/png": "[encoded data removed]",
      "text/plain": [
       "<Figure size 432x288 with 1 Axes>"
      ]
     },
     "metadata": {
      "needs_background": "light"
     },
     "output_type": "display_data"
    }
   ],
   "source": [
    "import matplotlib.pyplot as plt\n",
    "plt.plot(x, y, 'b--') #b is a code for blue and -- is for dashed line. . and - is for dotted line and normal line\n",
    "plt.xlabel(\"x (predictor)\", fontsize=18)\n",
    "plt.ylabel(\"y (label)\", fontsize=18)\n",
    "plt.show()"
   ]
  }
 ],
 "metadata": {
  "colab": {
   "collapsed_sections": [
    "sHQZ2xEiaxmH"
   ],
   "name": "ECS7020P_Lab03.ipynb",
   "provenance": []
  },
  "kernelspec": {
   "display_name": "Python 3 (ipykernel)",
   "language": "python",
   "name": "python3"
  },
  "language_info": {
   "codemirror_mode": {
    "name": "ipython",
    "version": 3
   },
   "file_extension": ".py",
   "mimetype": "text/x-python",
   "name": "python",
   "nbconvert_exporter": "python",
   "pygments_lexer": "ipython3",
   "version": "3.9.7"
  }
 },
 "nbformat": 4,
 "nbformat_minor": 4
}
