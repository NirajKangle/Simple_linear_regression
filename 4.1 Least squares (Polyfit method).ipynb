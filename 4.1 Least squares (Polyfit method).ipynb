{
 "cells": [
  {
   "cell_type": "markdown",
   "metadata": {
    "id": "yGGlz1M3iSoU"
   },
   "source": [
    "# A simple regression problem (Using Polyfit)\n",
    "\n",
    "In this notebook, we will explore the same simple dataset that we used in notebook 3. This dataset consists of 10 samples described by one predictor `x` and one label `y`. Let's define and plot the dataset.\n"
   ]
  },
  {
   "cell_type": "code",
   "execution_count": 1,
   "metadata": {
    "id": "QAq7RN1Lbah_"
   },
   "outputs": [
    {
     "data": {
      "image/png": "[encoded data removed]",
      "text/plain": [
       "<Figure size 432x288 with 1 Axes>"
      ]
     },
     "metadata": {
      "needs_background": "light"
     },
     "output_type": "display_data"
    }
   ],
   "source": [
    "import numpy as np\n",
    "import matplotlib.pyplot as plt\n",
    "np.set_printoptions(precision=3)\n",
    "\n",
    "xTrain = np.array([0.3000, -0.7700, 0.9000, -0.0400, 0.7400, -0.5800, -0.9200, -0.2100, -0.5400, 0.6800])\n",
    "yTrain = np.array([1.1492,  0.3582, 1.9013,  0.9487, 1.3096,  0.9646,  0.1079,  1.1262,  0.6131, 1.0951])\n",
    "\n",
    "plt.plot(xTrain, yTrain, '*', label=\"Training Data\")\n",
    "plt.xlabel(\"x (attribute)\", fontsize=18)\n",
    "plt.ylabel(\"y (label)\", fontsize=18)\n",
    "plt.xlim(-1,1)\n",
    "plt.ylim(-0.5,2.5)\n",
    "plt.grid(alpha=0.2)  #Alpha Changes line opacity.                #If you would like to form the graph plot less transparent, then you’ll make alpha greater than 1.\n",
    "                                                                 #This solidifies the graph plot, making it less transparent and more thick and dense\n",
    "plt.legend(fontsize=12)\n",
    "plt.show()"
   ]
  },
  {
   "cell_type": "markdown",
   "metadata": {
    "id": "hl2yGUrijdbe"
   },
   "source": [
    "Our next step will be to obtain the **least squares linear** fit. In this lab we will take advantage of the implementation of least squares provided by NumPy (`polyfit`) instead of implementing least squares ourselves. You can find more information about `polyfit` [here](https://numpy.org/doc/stable/reference/generated/numpy.polyfit.html)."
   ]
  },
  {
   "cell_type": "code",
   "execution_count": 2,
   "metadata": {
    "id": "g_C-Tug1kaXb"
   },
   "outputs": [
    {
     "name": "stdout",
     "output_type": "stream",
     "text": [
      "The coefficients of the least squares linear solution are:  [0.662 0.987]\n"
     ]
    }
   ],
   "source": [
    "order = 1\n",
    "w = np.polyfit(xTrain, yTrain, order)\n",
    "print(\"The coefficients of the least squares linear solution are: \", w)"
   ]
  },
  {
   "cell_type": "markdown",
   "metadata": {},
   "source": [
    "## Checking with notebook 3"
   ]
  },
  {
   "cell_type": "code",
   "execution_count": 3,
   "metadata": {},
   "outputs": [
    {
     "name": "stdout",
     "output_type": "stream",
     "text": [
      "The design matrix is:\n",
      " [[ 1.    0.3 ]\n",
      " [ 1.   -0.77]\n",
      " [ 1.    0.9 ]\n",
      " [ 1.   -0.04]\n",
      " [ 1.    0.74]\n",
      " [ 1.   -0.58]\n",
      " [ 1.   -0.92]\n",
      " [ 1.   -0.21]\n",
      " [ 1.   -0.54]\n",
      " [ 1.    0.68]]\n",
      "The 2 parameters of the least squares linear solution are\n",
      " [0.987 0.662]\n"
     ]
    }
   ],
   "source": [
    "X = np.column_stack([np.ones(xTrain.shape), xTrain])    #column_stack() function is used to stack 1-D arrays as columns into a 2-D array.\n",
    "#It takes a sequence of 1-D arrays and stack them as columns to make a single 2-D array. 2-D arrays are stacked as-is, just like with hstack function.\n",
    "\n",
    "print(\"The design matrix is:\\n\", X)\n",
    "\n",
    "XTX = np.dot(X.T, X) # Step 1\n",
    "XTX_inv = np.linalg.inv(XTX) # Step 2\n",
    "XTX_invXT = np.dot(XTX_inv, X.T) # Step 3\n",
    "\n",
    "w = np.dot(XTX_invXT, yTrain)\n",
    "print(\"The 2 parameters of the least squares linear solution are\\n\", w)"
   ]
  },
  {
   "cell_type": "markdown",
   "metadata": {},
   "source": [
    "## Parameters interchanged??"
   ]
  },
  {
   "cell_type": "markdown",
   "metadata": {
    "id": "IGLUZOdKnW4C"
   },
   "source": [
    "These coefficients should be the same as the ones we obtained in notebook 3 with our own implementation of least squares. \n",
    "\n",
    "NumPy also provides `poli1d`, a library class that encapsulates operations involving polynomials. Using `poli1d` is very simple and is described [here](https://numpy.org/doc/stable/reference/generated/numpy.poly1d.html). Let's create a *NumPy polynomial object* defined by the coefficients returned by `polyfit` and print it."
   ]
  },
  {
   "cell_type": "markdown",
   "metadata": {},
   "source": [
    "##                                                  IMP"
   ]
  },
  {
   "cell_type": "markdown",
   "metadata": {},
   "source": [
    "The numpy.poly1d() function helps to define a polynomial function. It makes it easy to apply “natural operations” on polynomials.\n",
    "The roots (sometimes called zeroes or solutions) of a polynomial P(x) P(x) P(x) are the values of x for which P (x) P(x) P(x) is equal to zero. Finding the roots of a polynomial is sometimes called solving the polynomial.\n",
    "\n",
    "Syntax: numpy.poly1d(arr, root, var)\n",
    "Parameters :\n",
    "arr : [array_like] The polynomial coefficients are given in decreasing order of powers. If the second parameter (root) is set to True then array values are the roots of the polynomial equation.\n",
    "root : [bool, optional] True means polynomial roots. Default is False.\n",
    "var : variable like x, y, z that we need in polynomial [default is x]."
   ]
  },
  {
   "cell_type": "code",
   "execution_count": 4,
   "metadata": {
    "id": "XBg4ybRmoIYE"
   },
   "outputs": [
    {
     "name": "stdout",
     "output_type": "stream",
     "text": [
      "The mathematical expression of the fitted linear model is :   \n",
      "0.9865 x + 0.6621\n",
      "The coefficients of the model are :  [0.987 0.662]\n"
     ]
    }
   ],
   "source": [
    "p = np.poly1d(w)\n",
    "print(\"The mathematical expression of the fitted linear model is : \", p)\n",
    "print(\"The coefficients of the model are : \", p.c)"
   ]
  },
  {
   "cell_type": "markdown",
   "metadata": {
    "id": "70hyGRaGX3QC"
   },
   "source": [
    "Once the linear solution `p` has been created, making a prediction is easy. We just need to pass the predictor `x` to the polynomial as follows:"
   ]
  },
  {
   "cell_type": "code",
   "execution_count": 5,
   "metadata": {
    "id": "-SH7URSyYIG_"
   },
   "outputs": [
    {
     "name": "stdout",
     "output_type": "stream",
     "text": [
      "Given a predictor x =  0  the predicted label is y =  0.6621173731903968\n"
     ]
    }
   ],
   "source": [
    "x = 0\n",
    "yPred = p(x)\n",
    "print(\"Given a predictor x = \", x, \" the predicted label is y = \", yPred)"
   ]
  },
  {
   "cell_type": "markdown",
   "metadata": {
    "id": "K3dCf8Aapsql"
   },
   "source": [
    "Trying several values of $x$ to obtain the predicted label. "
   ]
  },
  {
   "cell_type": "markdown",
   "metadata": {},
   "source": [
    "## Testing"
   ]
  },
  {
   "cell_type": "code",
   "execution_count": 6,
   "metadata": {},
   "outputs": [
    {
     "name": "stdout",
     "output_type": "stream",
     "text": [
      "Given a predictor x =  1  the predicted label is y =  1.6486405376107744\n"
     ]
    }
   ],
   "source": [
    "x1 = 1\n",
    "yPred1 = p(x1)\n",
    "print(\"Given a predictor x = \", x1, \" the predicted label is y = \", yPred1)"
   ]
  },
  {
   "cell_type": "code",
   "execution_count": 7,
   "metadata": {},
   "outputs": [
    {
     "name": "stdout",
     "output_type": "stream",
     "text": [
      "Given a predictor x =  2  the predicted label is y =  2.635163702031152\n"
     ]
    }
   ],
   "source": [
    "x2 = 2\n",
    "yPred2 = p(x2)\n",
    "print(\"Given a predictor x = \", x2, \" the predicted label is y = \", yPred2)"
   ]
  },
  {
   "cell_type": "markdown",
   "metadata": {},
   "source": [
    "Let's plot the least squares linear model together with the training dataset: "
   ]
  },
  {
   "cell_type": "code",
   "execution_count": 8,
   "metadata": {
    "id": "q1Gr65N4pF9S"
   },
   "outputs": [
    {
     "name": "stdout",
     "output_type": "stream",
     "text": [
      "[-1.    -0.98  -0.96  -0.939 -0.919 -0.899 -0.879 -0.859 -0.838 -0.818\n",
      " -0.798 -0.778 -0.758 -0.737 -0.717 -0.697 -0.677 -0.657 -0.636 -0.616\n",
      " -0.596 -0.576 -0.556 -0.535 -0.515 -0.495 -0.475 -0.455 -0.434 -0.414\n",
      " -0.394 -0.374 -0.354 -0.333 -0.313 -0.293 -0.273 -0.253 -0.232 -0.212\n",
      " -0.192 -0.172 -0.152 -0.131 -0.111 -0.091 -0.071 -0.051 -0.03  -0.01\n",
      "  0.01   0.03   0.051  0.071  0.091  0.111  0.131  0.152  0.172  0.192\n",
      "  0.212  0.232  0.253  0.273  0.293  0.313  0.333  0.354  0.374  0.394\n",
      "  0.414  0.434  0.455  0.475  0.495  0.515  0.535  0.556  0.576  0.596\n",
      "  0.616  0.636  0.657  0.677  0.697  0.717  0.737  0.758  0.778  0.798\n",
      "  0.818  0.838  0.859  0.879  0.899  0.919  0.939  0.96   0.98   1.   ]\n",
      "---\n",
      "[-0.324 -0.304 -0.285 -0.265 -0.245 -0.225 -0.205 -0.185 -0.165 -0.145\n",
      " -0.125 -0.105 -0.085 -0.065 -0.045 -0.025 -0.006  0.014  0.034  0.054\n",
      "  0.074  0.094  0.114  0.134  0.154  0.174  0.194  0.214  0.234  0.254\n",
      "  0.273  0.293  0.313  0.333  0.353  0.373  0.393  0.413  0.433  0.453\n",
      "  0.473  0.493  0.513  0.533  0.553  0.572  0.592  0.612  0.632  0.652\n",
      "  0.672  0.692  0.712  0.732  0.752  0.772  0.792  0.812  0.832  0.851\n",
      "  0.871  0.891  0.911  0.931  0.951  0.971  0.991  1.011  1.031  1.051\n",
      "  1.071  1.091  1.111  1.13   1.15   1.17   1.19   1.21   1.23   1.25\n",
      "  1.27   1.29   1.31   1.33   1.35   1.37   1.39   1.409  1.429  1.449\n",
      "  1.469  1.489  1.509  1.529  1.549  1.569  1.589  1.609  1.629  1.649]\n"
     ]
    }
   ],
   "source": [
    "x_LS = np.linspace(-1,1,100).T\n",
    "y_LS = p(x_LS)\n",
    "\n",
    "print(x_LS) \n",
    "print('---')\n",
    "print(y_LS) "
   ]
  },
  {
   "cell_type": "code",
   "execution_count": 9,
   "metadata": {},
   "outputs": [
    {
     "data": {
      "image/png": "[encoded data removed]",
      "text/plain": [
       "<Figure size 432x288 with 1 Axes>"
      ]
     },
     "metadata": {
      "needs_background": "light"
     },
     "output_type": "display_data"
    }
   ],
   "source": [
    "plt.plot(xTrain, yTrain, 'o', label=\"Training Data\")\n",
    "plt.plot(x_LS, y_LS, label=\"Linear prediction\")\n",
    "plt.xlabel(\"x (attribute)\", fontsize=18)\n",
    "plt.ylabel(\"y (label)\", fontsize=18)\n",
    "plt.xlim(-1,1)\n",
    "plt.ylim(-0.5,2.5)\n",
    "plt.grid(alpha=0.2)\n",
    "plt.legend(fontsize=12)\n",
    "plt.show()"
   ]
  },
  {
   "cell_type": "markdown",
   "metadata": {
    "id": "GYgQpJqOYxYf"
   },
   "source": [
    "What is the quality of this linear model? Least squares uses the mean squared error (MSE) as its quality metric. MSE is defined as \n",
    "\n",
    "$E_{MSE} = \\frac{1}{N}\\sum_{i=1}^{N}{e_i^2}=\\frac{1}{N}\\sum_{i=1}^{N}{(y_i-\\hat{y}_i)^2}$ \n",
    "\n",
    "where $N$ is the number of samples, $y_i$ is the true label and $\\hat{y}_i$ is the predicted label. Let's show step by step how to obtain the training MSE of the fitted linear model:\n",
    "\n"
   ]
  },
  {
   "cell_type": "code",
   "execution_count": 10,
   "metadata": {
    "id": "oyswmOTxpqZ5"
   },
   "outputs": [
    {
     "name": "stdout",
     "output_type": "stream",
     "text": [
      "The predictors are  [ 0.3  -0.77  0.9  -0.04  0.74 -0.58 -0.92 -0.21 -0.54  0.68]\n",
      "\n",
      "The true labels are  [1.149 0.358 1.901 0.949 1.31  0.965 0.108 1.126 0.613 1.095]\n",
      "\n",
      "The predicted labels s are  [ 0.958 -0.098  1.55   0.623  1.392  0.09  -0.245  0.455  0.129  1.333]\n",
      "\n",
      "The errors are  [ 0.191  0.456  0.351  0.326 -0.083  0.875  0.353  0.671  0.484 -0.238]\n",
      "\n",
      "The squared errors are  [0.037 0.208 0.123 0.106 0.007 0.765 0.125 0.451 0.234 0.057]\n",
      "\n",
      "The training MSE is  0.2111780057971034\n"
     ]
    }
   ],
   "source": [
    "yPredTrain = p(xTrain)\n",
    "error = yTrain - yPredTrain\n",
    "errorSq = error**2\n",
    "MSETrain = np.sum(errorSq)/10\n",
    "\n",
    "print(\"The predictors are \", xTrain)\n",
    "\n",
    "print(\"\\nThe true labels are \", yTrain)\n",
    "\n",
    "print(\"\\nThe predicted labels s are \", yPredTrain)\n",
    "\n",
    "print(\"\\nThe errors are \", error)\n",
    "\n",
    "print(\"\\nThe squared errors are \", errorSq)\n",
    "\n",
    "print(\"\\nThe training MSE is \", MSETrain)"
   ]
  }
 ],
 "metadata": {
  "colab": {
   "collapsed_sections": [],
   "name": "ECS7020P_Lab04.ipynb",
   "provenance": [],
   "toc_visible": true
  },
  "kernelspec": {
   "display_name": "Python 3 (ipykernel)",
   "language": "python",
   "name": "python3"
  },
  "language_info": {
   "codemirror_mode": {
    "name": "ipython",
    "version": 3
   },
   "file_extension": ".py",
   "mimetype": "text/x-python",
   "name": "python",
   "nbconvert_exporter": "python",
   "pygments_lexer": "ipython3",
   "version": "3.9.7"
  }
 },
 "nbformat": 4,
 "nbformat_minor": 4
}
