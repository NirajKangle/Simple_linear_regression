{
 "cells": [
  {
   "cell_type": "markdown",
   "metadata": {
    "id": "6W5gWMELl2gu"
   },
   "source": [
    "# Basic operations on arrays\n",
    "\n",
    "The previous example should have persuaded you that working with arrays of values is better than working with each value separately. In this section we will review some of the most important operations on arrays.\n",
    "\n",
    "First, we will use `np.array` to create a **row vector** `x_r`, specifically a vector consisting of 1 row and 3 columns, and then we will use `np.transpose` to **transpose** it into a **column vector** `x_c` consisting of 3 rows and 1 column:"
   ]
  },
  {
   "cell_type": "code",
   "execution_count": 1,
   "metadata": {
    "id": "M4-UHgXUtOpP"
   },
   "outputs": [
    {
     "name": "stdout",
     "output_type": "stream",
     "text": [
      "Vector x_r is:\n",
      " [[0 1 2]]\n",
      "The shape of x_r is : (1, 3)\n",
      "\n",
      "Vector x_c is:\n",
      " [[0]\n",
      " [1]\n",
      " [2]]\n",
      "The shape of x_c is: (3, 1)\n"
     ]
    }
   ],
   "source": [
    "import numpy as np\n",
    "import matplotlib.pyplot as plt\n",
    "\n",
    "x_r = np.array([0, 1, 2], ndmin=2)\n",
    "print(\"Vector x_r is:\\n\", x_r)\n",
    "print(\"The shape of x_r is :\", x_r.shape)\n",
    "x_c = np.transpose(x_r)\n",
    "print(\"\\nVector x_c is:\\n\", x_c)\n",
    "print(\"The shape of x_c is:\", x_c.shape)"
   ]
  },
  {
   "cell_type": "markdown",
   "metadata": {
    "id": "UncbEjhKS8C_"
   },
   "source": [
    "Note that we could have used `x_c = np.array([[0], [1], [2]])` to produce a column vector directly, instead of producing a row vector and then using transposition."
   ]
  },
  {
   "cell_type": "markdown",
   "metadata": {
    "id": "rq7rgwQLvYh9"
   },
   "source": [
    "Let's now use **column stacking** to create a **matrix** X consisting of 4 columns, specifically a column of ones and 3 columns storing the powers of `x_c` up to degree 3:"
   ]
  },
  {
   "cell_type": "code",
   "execution_count": 2,
   "metadata": {
    "id": "wo4BASi3vtcq"
   },
   "outputs": [
    {
     "name": "stdout",
     "output_type": "stream",
     "text": [
      "The design matrix X is:\n",
      " [[1. 0. 0. 0.]\n",
      " [1. 1. 1. 1.]\n",
      " [1. 2. 4. 8.]]\n",
      "\n",
      "The shape of the matrix X is (3, 4)\n"
     ]
    }
   ],
   "source": [
    "X = np.column_stack([np.ones(x_c.shape), x_c, x_c**2, x_c**3]) #np.ones(x_c.shape) will create a column of ones and shape similar to x_c\n",
    "print(\"The design matrix X is:\\n\", X)\n",
    "print(\"\\nThe shape of the matrix X is\", X.shape)"
   ]
  },
  {
   "cell_type": "code",
   "execution_count": 3,
   "metadata": {},
   "outputs": [
    {
     "name": "stdout",
     "output_type": "stream",
     "text": [
      "[[ 1.  1.  1.  0.]\n",
      " [ 2.  4.  8.  0.]\n",
      " [ 3.  9. 27.  0.]]\n"
     ]
    }
   ],
   "source": [
    "v = np.array([[1], [2], [3]])\n",
    "FF = np.column_stack([v, v**2, v**3, np.zeros(v.shape)]) #np.zeros(v.shape) will create a column of zeros and shape similar to v\n",
    "print(FF)"
   ]
  },
  {
   "cell_type": "markdown",
   "metadata": {
    "id": "wUp8MImWv9OA"
   },
   "source": [
    "And finally, some magic. In the following cell, we create a **column vector** `w_c` containing the coefficients of our cubic model $f(x)$ and obtain the predictions for `x_c` by calculating the matrix multiplication between `X` and `w_c` using `np.dot`:"
   ]
  },
  {
   "cell_type": "code",
   "execution_count": 4,
   "metadata": {
    "id": "vU4NF3XowUtw"
   },
   "outputs": [
    {
     "name": "stdout",
     "output_type": "stream",
     "text": [
      "The coefficients of the polynomial model are:\n",
      " [[-2.  ]\n",
      " [-1.5 ]\n",
      " [ 0.75]\n",
      " [ 0.25]]\n",
      "The predicted labels are:\n",
      " [[-2. ]\n",
      " [-2.5]\n",
      " [ 0. ]]\n"
     ]
    }
   ],
   "source": [
    "w_c = np.array([[-2], [-3/2], [3/4], [1/4]])\n",
    "print(\"The coefficients of the polynomial model are:\\n\", w_c)\n",
    "y = np.dot(X,w_c)\n",
    "print(\"The predicted labels are:\\n\", y)\n"
   ]
  },
  {
   "cell_type": "markdown",
   "metadata": {
    "id": "CggDtMPkfHc9"
   },
   "source": [
    "Note that `X` represents a 3x4 matrix, `w_c` a 4x1 vector, and the output `y` is a 3x1 vector. What if we have 100 predictors? Same code, we first create a 100x4 NumPy matrix containing the powers of all the predictors and multiply it by the 4x1 coefficients vector, which returns a 100x1 prediction vector. This time, we won't print out all the predictions, as we have learnt it's not very useful:"
   ]
  },
  {
   "cell_type": "code",
   "execution_count": 5,
   "metadata": {
    "id": "zU2bEd20gJL6"
   },
   "outputs": [
    {
     "data": {
      "image/png": "[encoded data removed]",
      "text/plain": [
       "<Figure size 432x288 with 1 Axes>"
      ]
     },
     "metadata": {
      "needs_background": "light"
     },
     "output_type": "display_data"
    }
   ],
   "source": [
    "x_r = np.linspace(-4,4,100)\n",
    "x_c = np.transpose(x_r)\n",
    "X = np.column_stack([np.ones(x_c.shape), x_c, x_c**2, x_c**3])\n",
    "y = np.dot(X,w_c)\n",
    "plt.plot(x_c, y, 'r.')\n",
    "plt.xlabel(\"x (predictor)\", fontsize=18)\n",
    "plt.ylabel(\"y (label)\", fontsize=18)\n",
    "plt.show()"
   ]
  },
  {
   "cell_type": "markdown",
   "metadata": {
    "id": "dv7oFht_hTft"
   },
   "source": [
    "In summary:\n",
    "\n",
    "- Our predictors have been represented as a **vector**.\n",
    "- We have created a **matrix** containing as columns an all-ones column and the powers of the predictor vector up to degree 3. Note that this matrix looks like the least squares design matrix! They are indeed identical.\n",
    "- We have represented the coefficients of $f(x)$ as a **vector**.\n",
    "- We have obtained the predicted labels using **matrix multiplication**.\n",
    "\n",
    "This is the **pro** way."
   ]
  }
 ],
 "metadata": {
  "colab": {
   "collapsed_sections": [
    "sHQZ2xEiaxmH"
   ],
   "name": "ECS7020P_Lab03.ipynb",
   "provenance": []
  },
  "kernelspec": {
   "display_name": "Python 3 (ipykernel)",
   "language": "python",
   "name": "python3"
  },
  "language_info": {
   "codemirror_mode": {
    "name": "ipython",
    "version": 3
   },
   "file_extension": ".py",
   "mimetype": "text/x-python",
   "name": "python",
   "nbconvert_exporter": "python",
   "pygments_lexer": "ipython3",
   "version": "3.9.7"
  }
 },
 "nbformat": 4,
 "nbformat_minor": 4
}
